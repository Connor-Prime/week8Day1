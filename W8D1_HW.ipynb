{
 "cells": [
  {
   "cell_type": "markdown",
   "id": "c784c0eb",
   "metadata": {},
   "source": [
    "# INSTRUCTORS GUIDE"
   ]
  },
  {
   "cell_type": "markdown",
   "id": "53242b3e",
   "metadata": {},
   "source": [
    "<b>NOTES/TIPS TO INSTRUCTORS</b>"
   ]
  },
  {
   "cell_type": "markdown",
   "id": "72195ba9",
   "metadata": {},
   "source": [
    "- The Content of this notebook is relatively short, but there are a lot of In Class Assignments.  You should have time to give around 10 minutes per question.\n",
    "\n",
    "- Note not all recommended tsconfig settings are active in the jupyter notebook environment.  This might be something to point out along the way.  The Day 3 lecture will about working with the tsconfig file and using a package.json\n",
    "\n",
    "- The last section on Non Null Assertion Operator has a link to TypeScript Playground. If you are having issues with that or just want a local copy, you can clone https://github.com/CodingTemple/nnao and from the root project directory run an npm install typescript in the terminal.\n",
    "\n",
    "\n",
    "- This notebook requires the typescript kernel from TSLab.  \n",
    "\n",
    "    - The jslab/ijavaScript kernels will not work for TypeScript.\n",
    "\n",
    "    - To change kernel Kernel>Change Kernel>TypeScript\n",
    "\n",
    "- The Kernel tends to crash, Restart then will crash eventually you'll get a pop up to reload the kernel again then it should work.\n",
    "\n",
    "- LET AND CONST will persist the entire document. Be careful with Variable names.\n",
    "\n",
    "    - Unlike with the iJavascript Kernel we can re-run a declaration cell without restarting our kernel!\n",
    "\n",
    "- This is the Instructors guide.  For STAFF ONLY.  It contains solutions to homework and exercises. and all code output\n",
    "\n",
    "- There Are Also Other Versions:\n",
    "\n",
    "    - Starter : this is for the instructor and student to fill out during lecture, no output\n",
    "\n",
    "    - Completed Student : this is for the students to follow along during lecture, it contains no solutions, but with code output from the lecture\n",
    "\n",
    "- For convenience I have included an Index using `<a>` tags so adding cells or moving the ordering won't affect anything unless the heading markdown doesn't move with the content"
   ]
  },
  {
   "cell_type": "markdown",
   "id": "1a814339",
   "metadata": {},
   "source": [
    "[Intro To TS](#intro)<br>\n",
    "&emsp;[JS Built-in Types](#built)<br>\n",
    "&emsp;[Declaration](#declare)<br>\n",
    "&emsp;[Exercise #1](#ice1)<br>\n",
    "&emsp;[Implicit Types](#itype)<br>\n",
    "&emsp;[Arrays](#array)<br>\n",
    "&emsp;[Exercise #2](#ice2)<br>\n",
    "&emsp;[Exercise #3](#ice3)<br>\n",
    "&emsp;[Functions](#func)<br>\n",
    "&emsp;&emsp;[Return](#return)<br>\n",
    "&emsp;&emsp;[Exercise #4](#ice4)<br>\n",
    "&emsp;&emsp;[Arrow Functions](#arrow)<br>\n",
    "&emsp;&emsp;[Exercise #5](#ice5)<br>\n",
    "&emsp;&emsp;[Void](#void)<br>\n",
    "&emsp;&emsp;[Exercise #6](#ice6)<br>\n",
    "&emsp;[TS Built-in Types](#tstypes)<br>\n",
    "&emsp;&emsp;[any](#any)<br>\n",
    "&emsp;&emsp;[Exercise #7](#ice7)<br>\n",
    "&emsp;&emsp;[Tuple](#tuple)<br>\n",
    "&emsp;&emsp;[Exercise #8](#ice8)<br>\n",
    "&emsp;&emsp;[Enum](#enum)<br>\n",
    "&emsp;&emsp;[Exercise #9](#ice9)<br>\n",
    "&emsp;&emsp;[Unknown](#unknown)<br>\n",
    "&emsp;&emsp;[Type Guards](#guard)<br>\n",
    "&emsp;&emsp;[Exercise #10](#ice10)<br>\n",
    "&emsp;&emsp;[never](#never)<br>\n",
    "&emsp;[Objects](#obj)<br>\n",
    "&emsp;&emsp;[Exercise #11](#ice11)<br>\n",
    "&emsp;&emsp;[Type Alias](#type)<br>\n",
    "&emsp;&emsp;[Exercise #12](#ice12)<br>\n",
    "&emsp;&emsp;[readonly](#readonly)<br>\n",
    "&emsp;&emsp;[Optional Chaining](#opt)<br>\n",
    "&emsp;&emsp;[Objects with Methods](#objmeth)<br>\n",
    "&emsp;&emsp;[Exercise #13](#ice13)<br>\n",
    "&emsp;&emsp;[Union Types](#union)<br>\n",
    "&emsp;&emsp;[Exercise #14](#ice14)<br>\n",
    "&emsp;[as Keyword](#as)<br>\n",
    "&emsp;[Intersection Types](#intersec)<br>\n",
    "&emsp;[Exercise #15](#ice15)<br>\n",
    "&emsp;[Literal Types](#literal)<br>\n",
    "&emsp;[Exercise #16](#ice16)<br>\n",
    "&emsp;[Non-null assertion operator](#nnao)<br>\n",
    "&emsp;[Homework](#hw)<br>\n"
   ]
  },
  {
   "cell_type": "markdown",
   "id": "99033056",
   "metadata": {},
   "source": [
    "<a id=\"intro\"></a>\n",
    "# Intro To TypeScript"
   ]
  },
  {
   "cell_type": "markdown",
   "id": "69d858f0",
   "metadata": {},
   "source": [
    "TypeScript was developed in 2012 by Microsoft. As of Early 2023 the most current TypeScript version is 4.9, with 5.0 being in beta. (This notebook uses 4.1) TypeScript is what’s called a superset of JavaScript, meaning it encompasses everything that is JavaScript and it includes even more features.\n",
    "\n",
    "Typescript’s main feature is that it adds static typing to Vanilla JS.  JavaScript (and python) are called dynamically type languages, this means the data type of the variables isn't determined until runtime.  This is a recipe for disaster in complex applications.  When working with a dynamically typed language the errors don't show up until you try using your program and something goes wrong.  This makes finding and preventing errors a hassle.  Enter TypeScript, with a statically type language (like C++/Java/C#) the datatypes of the variables are declared and known at compile time (or before you actually run the program.)  That means, when you go to compile your code, you will get errors before ever running the program.  This also helps the itellisense (how VSCode or Jupyter Notebook gives you hints on methods and properties) know what options to give.  This makes the programmers life much easier.\n",
    "\n",
    "When you write a TypeScript (.ts) file you must compile that TS code.  The TS code is read by your computer and it compiles the TS code into new JavaScript files (.js).  This is the compilation step that will give you the type checking errors.  Once it is compiled into JS you can run the JS file like any other JS file.  You will also get a TS config file, in where, you can specify lots of rules that can change how TS checks your TS files. When working in Jupyter Notebook with the TS kernel, you won't see this compilation step however it is happening in the background.\n"
   ]
  },
  {
   "cell_type": "markdown",
   "id": "df8021ee",
   "metadata": {},
   "source": [
    "<a id=\"built\"></a>\n",
    "\n",
    "## Built-in Types"
   ]
  },
  {
   "cell_type": "markdown",
   "id": "ecf83965",
   "metadata": {},
   "source": [
    "JavaScript has seven built-in types: <b>null</b> , <b>undefined</b> , <b>boolean</b> , <b>number</b> , <b>string</b> , <b>object</b> , and <b>symbol</b> \n",
    "\n",
    "You should know these types already, except for symbol (don't worry about symbol)"
   ]
  },
  {
   "cell_type": "markdown",
   "id": "2cee95be",
   "metadata": {},
   "source": [
    "<a id=\"declare\"></a>\n",
    "\n",
    "### Declaring"
   ]
  },
  {
   "cell_type": "markdown",
   "id": "852344b1",
   "metadata": {},
   "source": [
    "When declaring a variable you can set its type explicitly by adding a `:` then the name of the class.\n",
    "\n",
    "<b>Note:</b> The types are lower cased, Number and number and Boolean and boolean are not the same and will cause issues"
   ]
  },
  {
   "cell_type": "code",
   "execution_count": null,
   "id": "84c87738",
   "metadata": {},
   "outputs": [],
   "source": []
  },
  {
   "cell_type": "markdown",
   "id": "26edd04a",
   "metadata": {},
   "source": [
    "Without a type annotation we can reassign `anyType` to any type of variable"
   ]
  },
  {
   "cell_type": "code",
   "execution_count": 33,
   "id": "8fb2d8ed",
   "metadata": {},
   "outputs": [
    {
     "name": "stdout",
     "output_type": "stream",
     "text": [
      "\u001b[33m26\u001b[39m\n"
     ]
    }
   ],
   "source": [
    "let age:number = 25;\n",
    "\n",
    "function getOlder(age:number){\n",
    "    age += 1;\n",
    "    return age;\n",
    "}\n",
    "\n",
    "let age2:number = getOlder(age);\n",
    "\n",
    "console.log(age2);"
   ]
  },
  {
   "cell_type": "code",
   "execution_count": null,
   "id": "9042f262",
   "metadata": {
    "scrolled": true
   },
   "outputs": [],
   "source": [
    "//Error"
   ]
  },
  {
   "cell_type": "code",
   "execution_count": null,
   "id": "4e57aa71",
   "metadata": {},
   "outputs": [],
   "source": []
  },
  {
   "cell_type": "code",
   "execution_count": null,
   "id": "808d8249",
   "metadata": {},
   "outputs": [],
   "source": [
    " //Error"
   ]
  },
  {
   "cell_type": "code",
   "execution_count": null,
   "id": "2f762215",
   "metadata": {},
   "outputs": [],
   "source": []
  },
  {
   "cell_type": "markdown",
   "id": "e4699b54",
   "metadata": {},
   "source": [
    "<a id=\"ice1\"></a>\n",
    "\n",
    "## In-Class Exercise #1"
   ]
  },
  {
   "cell_type": "markdown",
   "id": "7ae0f3fc",
   "metadata": {},
   "source": [
    "In the cells provided declare 3 variables `iceString` of type string `iceNumber` of type number `iceBool` of type boolean\n",
    "Then on seperate line assign those variables values of an appropriate"
   ]
  },
  {
   "cell_type": "code",
   "execution_count": 7,
   "id": "864f1ac6",
   "metadata": {},
   "outputs": [
    {
     "name": "stdout",
     "output_type": "stream",
     "text": [
      "ice \u001b[33m2\u001b[39m \u001b[33mfalse\u001b[39m\n"
     ]
    }
   ],
   "source": [
    "let iceString:string = \"ice\";\n",
    "let iceNumber: number = 2;\n",
    "let iceBool: boolean = false;\n",
    "\n",
    "console.log(iceString, iceNumber, iceBool);"
   ]
  },
  {
   "cell_type": "markdown",
   "id": "14929242",
   "metadata": {},
   "source": [
    "<a id=\"itype\"></a>\n",
    "\n",
    "## Implicit Type Declaration"
   ]
  },
  {
   "cell_type": "markdown",
   "id": "a1e67024",
   "metadata": {},
   "source": [
    "When you declare and intialize a variable with TypeScript, it will implicitly add the type declaration for you"
   ]
  },
  {
   "cell_type": "code",
   "execution_count": 9,
   "id": "e8e40339",
   "metadata": {},
   "outputs": [
    {
     "name": "stdout",
     "output_type": "stream",
     "text": [
      "[ \u001b[33m3\u001b[39m, \u001b[33m4\u001b[39m, \u001b[33m5\u001b[39m ]\n"
     ]
    }
   ],
   "source": [
    "let nums:number[] = [3,4,5];\n",
    "console.log(nums);"
   ]
  },
  {
   "cell_type": "code",
   "execution_count": null,
   "id": "2e7de6bf",
   "metadata": {},
   "outputs": [],
   "source": []
  },
  {
   "cell_type": "code",
   "execution_count": null,
   "id": "65915001",
   "metadata": {
    "scrolled": true
   },
   "outputs": [],
   "source": []
  },
  {
   "cell_type": "markdown",
   "id": "3a8aa3f9",
   "metadata": {},
   "source": [
    "The above example shows the `implicitlyTypedArray` was not declared to as an array (of strings) but TypeScript implicitly typed it based on the initial state of  `[\"Na na na na\", \"na na na na\",\"hey hey\", \"Goodbye\"]`"
   ]
  },
  {
   "cell_type": "markdown",
   "id": "2c8d8847",
   "metadata": {},
   "source": [
    "<a id=\"array\"></a>\n",
    "\n",
    "## Array typing"
   ]
  },
  {
   "cell_type": "markdown",
   "id": "e5508c4a",
   "metadata": {},
   "source": [
    "Arrays in TS need to be type set to an array, but not just and array, and arrays must declare the datatype of its member elements.  To do this we add the datatype of the elements in the array followed by `[]`.  Typically we only put the same datatype in an array."
   ]
  },
  {
   "cell_type": "code",
   "execution_count": null,
   "id": "55767d2e",
   "metadata": {},
   "outputs": [],
   "source": []
  },
  {
   "cell_type": "code",
   "execution_count": null,
   "id": "b3f874fc",
   "metadata": {},
   "outputs": [],
   "source": []
  },
  {
   "cell_type": "code",
   "execution_count": null,
   "id": "25606eeb",
   "metadata": {},
   "outputs": [],
   "source": []
  },
  {
   "cell_type": "markdown",
   "id": "ada55e5b",
   "metadata": {},
   "source": [
    "<a id=\"ice2\"></a>\n",
    "\n",
    "## In-Class Exercise #2"
   ]
  },
  {
   "cell_type": "markdown",
   "id": "6ed0adaf",
   "metadata": {},
   "source": [
    "Create an array of nulls using explicit type checking called `arrayOfNulls`"
   ]
  },
  {
   "cell_type": "code",
   "execution_count": 10,
   "id": "df7993e8",
   "metadata": {},
   "outputs": [
    {
     "name": "stdout",
     "output_type": "stream",
     "text": [
      "[ \u001b[1mnull\u001b[22m, \u001b[1mnull\u001b[22m, \u001b[1mnull\u001b[22m ]\n"
     ]
    }
   ],
   "source": [
    "let arrayOfNulls: null[] = [null, null, null];\n",
    "console.log(arrayOfNulls);"
   ]
  },
  {
   "cell_type": "markdown",
   "id": "59738550",
   "metadata": {},
   "source": [
    "#### Multiple Datatypes in Array"
   ]
  },
  {
   "cell_type": "markdown",
   "id": "1c8b011c",
   "metadata": {},
   "source": [
    "We usually avoid putting multiple data types in an array if there is more than 2 elements because it gets hard to read and use.  If we want to do this we put inside bracket we state the datatype for each index of the array like so\n",
    "\n",
    "`let myVar:[datatypeOfIndex1, datatypeOfIndex2, datatypeOfIndex3, datatypeOfIndex4 ..ect]`"
   ]
  },
  {
   "cell_type": "code",
   "execution_count": 11,
   "id": "d752818b",
   "metadata": {},
   "outputs": [
    {
     "name": "stdout",
     "output_type": "stream",
     "text": [
      "[ \u001b[33m1\u001b[39m, \u001b[32m'one'\u001b[39m ]\n"
     ]
    }
   ],
   "source": [
    "let myVar:[number, string] = [1,\"one\"];\n",
    "\n",
    "console.log(myVar);"
   ]
  },
  {
   "cell_type": "code",
   "execution_count": null,
   "id": "659f4eaf",
   "metadata": {},
   "outputs": [],
   "source": []
  },
  {
   "cell_type": "markdown",
   "id": "bba79970",
   "metadata": {},
   "source": [
    "The Order of the elements is critical"
   ]
  },
  {
   "cell_type": "code",
   "execution_count": null,
   "id": "63a6cbce",
   "metadata": {
    "scrolled": true
   },
   "outputs": [],
   "source": []
  },
  {
   "cell_type": "markdown",
   "id": "ac4fb2d4",
   "metadata": {},
   "source": [
    "#### Multiple elements of unknown Length"
   ]
  },
  {
   "cell_type": "markdown",
   "id": "7886ecbb",
   "metadata": {},
   "source": [
    "What if the array's first element is a string and then we have an unknown about of numbers?\n",
    "\n",
    "We will use the spread operator to say the second member of the array is an unpacked number array"
   ]
  },
  {
   "cell_type": "code",
   "execution_count": 2,
   "id": "c37b74ae",
   "metadata": {},
   "outputs": [
    {
     "name": "stdout",
     "output_type": "stream",
     "text": [
      "[ \u001b[32m'hi'\u001b[39m, \u001b[33m2\u001b[39m, \u001b[33m3\u001b[39m, \u001b[33m4\u001b[39m, \u001b[33m5\u001b[39m ]\n"
     ]
    }
   ],
   "source": [
    "                //one string    //any number of numbers\n",
    "let strPlusNums:[string,        ...number[]        ]=[\"hi\",2,3,4,5];\n",
    "console.log(strPlusNums);"
   ]
  },
  {
   "cell_type": "code",
   "execution_count": null,
   "id": "a1b97107",
   "metadata": {
    "scrolled": true
   },
   "outputs": [],
   "source": []
  },
  {
   "cell_type": "markdown",
   "id": "d0f22cb4",
   "metadata": {},
   "source": [
    "<strong>Note:</strong> This style means there could also be nothing in our unpacked number array, so the second index becomes optional"
   ]
  },
  {
   "cell_type": "code",
   "execution_count": null,
   "id": "d424bc5a",
   "metadata": {
    "scrolled": true
   },
   "outputs": [],
   "source": []
  },
  {
   "cell_type": "markdown",
   "id": "10d54c77",
   "metadata": {},
   "source": [
    "<a id=\"ice3\"></a>\n",
    "\n",
    "## In-Class Exercise #3"
   ]
  },
  {
   "cell_type": "markdown",
   "id": "89ed8797",
   "metadata": {},
   "source": [
    "Create an array that starts with one number and then can hold any number of booleans and name it `stringBoolsArray` and assign it some values"
   ]
  },
  {
   "cell_type": "code",
   "execution_count": 8,
   "id": "fc3ae1df",
   "metadata": {},
   "outputs": [
    {
     "name": "stdout",
     "output_type": "stream",
     "text": [
      "[ \u001b[33m1\u001b[39m, \u001b[33mfalse\u001b[39m, \u001b[33mfalse\u001b[39m, \u001b[33mfalse\u001b[39m, \u001b[33mfalse\u001b[39m ]\n"
     ]
    }
   ],
   "source": [
    "let numBoolsArray:[number,...boolean[]] = [1,false, false, false, false]\n",
    "\n",
    "console.log(numBoolsArray);"
   ]
  },
  {
   "cell_type": "markdown",
   "id": "cba4150c",
   "metadata": {},
   "source": [
    "<a id=\"func\"></a>\n",
    "\n",
    "## TS and Intellisense, and Functions"
   ]
  },
  {
   "cell_type": "markdown",
   "id": "6acc3d76",
   "metadata": {},
   "source": [
    "Typescript helps you with itellisense.  In Jupyter notebook you can press tab after writing a dot to see the availible methods.  This only works if the itellisense can determine what the datatype of the variable is.  Typescript introduces static typing to JS, so when using proper TS techniques the itellisense will know the type of data being past.\n",
    "\n",
    "Consider the examples below.  The first example is without static type checking.  note when you type `name.` and press `tab` you get no suggestions; This tells you that the compiler does not know the type of the name variable.\n",
    "\n",
    "Looking at the second example we annotate the name parameter to be of type string, now when you press tab after the `name.` you will see a list of availible string methods and properties.\n"
   ]
  },
  {
   "cell_type": "code",
   "execution_count": 13,
   "id": "730796c7",
   "metadata": {},
   "outputs": [],
   "source": [
    "            //apply type to parameter\n",
    "function namelower(name:string){\n",
    "    name= name.toLowerCase()\n",
    "    return name\n",
    "}"
   ]
  },
  {
   "cell_type": "code",
   "execution_count": null,
   "id": "2c64ee49",
   "metadata": {},
   "outputs": [],
   "source": []
  },
  {
   "cell_type": "markdown",
   "id": "fee91c7d",
   "metadata": {},
   "source": [
    "<a id=\"return\"></a>\n",
    "\n",
    "## Declaring a Return Type"
   ]
  },
  {
   "cell_type": "markdown",
   "id": "681133b4",
   "metadata": {},
   "source": [
    "Now lets use the returned string with and without return type annonations."
   ]
  },
  {
   "cell_type": "markdown",
   "id": "9477198d",
   "metadata": {},
   "source": [
    "Using the same example we will see that the compiler knows the data type of name, once again we can easily verify this my trying the tab key."
   ]
  },
  {
   "cell_type": "code",
   "execution_count": 16,
   "id": "2da7c6b1",
   "metadata": {},
   "outputs": [
    {
     "name": "stdout",
     "output_type": "stream",
     "text": [
      "\u001b[33m3\u001b[39m\n"
     ]
    }
   ],
   "source": [
    "                                //return type\n",
    "function namelower(name:string):  string  {\n",
    "    name= name.toLowerCase()\n",
    "    return name\n",
    "}\n",
    "\n",
    "console.log(namelower(\"RON\").length)"
   ]
  },
  {
   "cell_type": "markdown",
   "id": "7635d908",
   "metadata": {},
   "source": [
    "The compiler knows this is a string because we passed in a string and didn't do anything that may change its data type"
   ]
  },
  {
   "cell_type": "markdown",
   "id": "cb1280d2",
   "metadata": {},
   "source": [
    "Let's try to confuse the compilier by adding an integer to our string.  This will cause the compiler not to know what the data type of our return is, once again we can test by press tab after the dot"
   ]
  },
  {
   "cell_type": "code",
   "execution_count": null,
   "id": "8f423783",
   "metadata": {},
   "outputs": [],
   "source": []
  },
  {
   "cell_type": "markdown",
   "id": "754274c7",
   "metadata": {},
   "source": [
    "#### Explicit Return Type"
   ]
  },
  {
   "cell_type": "markdown",
   "id": "154bf2b0",
   "metadata": {},
   "source": [
    "Lets annotate the return type of this function, we will see now the compiler and our itellisense knows the return of the function is a string\n",
    "\n",
    "To annotate a return type on a regular function it looks like:\n",
    "```\n",
    "function funcName(params):ReturnType{}\n",
    "```"
   ]
  },
  {
   "cell_type": "code",
   "execution_count": null,
   "id": "44330f07",
   "metadata": {},
   "outputs": [],
   "source": [
    "                                //return type\n",
    "function namelower(name:string):  string  {\n",
    "    name= name.toLowerCase()\n",
    "    return name\n",
    "}\n",
    "\n",
    "console.log(namelower(\"RON\").length)"
   ]
  },
  {
   "cell_type": "markdown",
   "id": "880028a5",
   "metadata": {},
   "source": [
    "<a id=\"ice4\"></a>\n",
    "\n",
    "## In-Class Exercise #4"
   ]
  },
  {
   "cell_type": "markdown",
   "id": "55b41583",
   "metadata": {},
   "source": [
    "Create a regular function that takes in two numbers and returns a string that says.\n",
    "```[firstnumber] plus [secondNumber] equals [FirstNumber plus SecondNumber]```\n",
    "\n",
    "Name the function `iceAddition`\n",
    "\n",
    "if we run `iceAddition(2,5)`\n",
    "\n",
    "the output should be :\n",
    "\n",
    "```\n",
    "\"2 plus 5 equals 7\"\n",
    "```\n",
    "\n",
    "Use Explicit type checking on the parameters and return type"
   ]
  },
  {
   "cell_type": "code",
   "execution_count": 21,
   "id": "de836e1e",
   "metadata": {},
   "outputs": [
    {
     "name": "stdout",
     "output_type": "stream",
     "text": [
      "2 plus 3 equals 5\n"
     ]
    }
   ],
   "source": [
    "function iceAddition(firstNumber:number, secondNumber:number):string{\n",
    "    let sum:number = firstNumber+secondNumber;\n",
    "    return `${firstNumber} plus ${secondNumber} equals ${sum}`;\n",
    "}\n",
    "\n",
    "console.log(iceAddition(2,3));"
   ]
  },
  {
   "cell_type": "markdown",
   "id": "77a2626d",
   "metadata": {},
   "source": [
    "<a id=\"arrow\"></a>\n",
    "\n",
    "## Arrow Functions"
   ]
  },
  {
   "cell_type": "markdown",
   "id": "51517966",
   "metadata": {},
   "source": [
    "To annotate a return type on an arrow function it looks like:\n",
    "```\n",
    "const funcName=(params):ReturnType=>{}\n",
    "```"
   ]
  },
  {
   "cell_type": "code",
   "execution_count": 22,
   "id": "708cb933",
   "metadata": {},
   "outputs": [
    {
     "name": "stdout",
     "output_type": "stream",
     "text": [
      "2 plus 3 equals 5\n"
     ]
    }
   ],
   "source": [
    "const iceAddition2=(firstNumber:number, secondNumber:number):string=>{\n",
    "    let sum:number = firstNumber+secondNumber;\n",
    "    return `${firstNumber} plus ${secondNumber} equals ${sum}`;\n",
    "}\n",
    "\n",
    "console.log(iceAddition2(2,3))"
   ]
  },
  {
   "cell_type": "markdown",
   "id": "65f8eaf8",
   "metadata": {},
   "source": [
    "<a id=\"ice5\"></a>\n",
    "\n",
    "## In-Class Exercise #5"
   ]
  },
  {
   "cell_type": "markdown",
   "id": "d9a493fc",
   "metadata": {},
   "source": [
    "Create an Arrow function that takes in two numbers and returns a string that says.\n",
    "```[firstnumber] plus [secondNumber] equals [FirstNumber plus SecondNumber]```\n",
    "\n",
    "Name the function `iceAdditionArrow`\n",
    "\n",
    "if we run `iceAdditionArrow(2,5)`\n",
    "\n",
    "the output should be :\n",
    "\n",
    "```\n",
    "\"2 plus 5 equals 7\"\n",
    "```\n",
    "\n",
    "Use Explicit type checking on the parameters and return type"
   ]
  },
  {
   "cell_type": "code",
   "execution_count": 23,
   "id": "96c35d0e",
   "metadata": {},
   "outputs": [
    {
     "name": "stdout",
     "output_type": "stream",
     "text": [
      "2 plus 3 equals 5\n"
     ]
    }
   ],
   "source": [
    "const iceAdditionArrow=(firstNumber:number, secondNumber:number):string=>{\n",
    "    let sum:number = firstNumber+secondNumber;\n",
    "    return `${firstNumber} plus ${secondNumber} equals ${sum}`;\n",
    "}\n",
    "\n",
    "console.log(iceAdditionArrow(2,3))"
   ]
  },
  {
   "cell_type": "markdown",
   "id": "1f52b380",
   "metadata": {},
   "source": [
    "<a id=\"void\"></a>\n",
    "\n",
    "### Void Type"
   ]
  },
  {
   "cell_type": "markdown",
   "id": "c8179f7c",
   "metadata": {},
   "source": [
    "Often our function return nothing, for this we can use the void type.  The term void to represent function without returns is ubiquitous in all languages.\n",
    "\n",
    "Note: returning `null` or `undefined` statisfies void "
   ]
  },
  {
   "cell_type": "code",
   "execution_count": 26,
   "id": "080efc5e",
   "metadata": {},
   "outputs": [
    {
     "name": "stdout",
     "output_type": "stream",
     "text": [
      "hi\n"
     ]
    }
   ],
   "source": [
    "function sayHi():void{\n",
    "    console.log(\"hi\")\n",
    "}\n",
    "sayHi()"
   ]
  },
  {
   "cell_type": "code",
   "execution_count": null,
   "id": "4b652b58",
   "metadata": {
    "scrolled": true
   },
   "outputs": [],
   "source": []
  },
  {
   "cell_type": "markdown",
   "id": "5378bd0e",
   "metadata": {},
   "source": [
    "<a id=\"ice6\"></a>\n",
    "\n",
    "## In-Class Exercise #6"
   ]
  },
  {
   "cell_type": "markdown",
   "id": "ed8466f0",
   "metadata": {},
   "source": [
    "Create an arrow function that is named `iceVoid` and have that function print:\n",
    "\n",
    "`If I have a void I have nothing`\n",
    "\n",
    "Be sure to explicity type the function's return"
   ]
  },
  {
   "cell_type": "code",
   "execution_count": 37,
   "id": "e3119b22",
   "metadata": {},
   "outputs": [
    {
     "name": "stdout",
     "output_type": "stream",
     "text": [
      "If I have a void I have nothing\n"
     ]
    }
   ],
   "source": [
    "const iceVoid = ():void=>{\n",
    "    console.log(\"If I have a void I have nothing\")\n",
    "}\n",
    "\n",
    "iceVoid()"
   ]
  },
  {
   "cell_type": "markdown",
   "id": "bac8ca87",
   "metadata": {},
   "source": [
    "<a id=\"tstypes\"></a>\n",
    "\n",
    "## TypeScript Built in Types"
   ]
  },
  {
   "cell_type": "markdown",
   "id": "8e366edd",
   "metadata": {},
   "source": [
    "We have already mentioned JavaScript has seven built-in types: <b>null</b> , <b>undefined</b> , <b>boolean</b> , <b>number</b> , <b>string</b> , <b>object</b> , and <b>symbol</b> \n",
    "\n",
    "TypeScript adds to these types with: <b>unknown</b>, <b>any</b>, <b>tuple</b>, <b>enum</b>,<b> never</b> and more.\n",
    "\n",
    "Reference: [https://www.typescriptlang.org/docs/handbook/2/everyday-types.html]('https://www.typescriptlang.org/docs/handbook/2/everyday-types.html')"
   ]
  },
  {
   "cell_type": "markdown",
   "id": "df11c56e",
   "metadata": {},
   "source": [
    "<a id=\"any\"></a>\n",
    "\n",
    "### any type"
   ]
  },
  {
   "cell_type": "markdown",
   "id": "cab48c02",
   "metadata": {},
   "source": [
    "The any type means that the data can belong to any datatype.  Be very careful when using this datatype; it should be avoided at all costs.  Using the any type, may make your code easier to write, but you will lose all benefits of TypeScript.\n",
    "\n",
    "When you don't explicitly declare a type to a variable TS will implicitly assign it to any."
   ]
  },
  {
   "cell_type": "code",
   "execution_count": 38,
   "id": "2305f897",
   "metadata": {
    "scrolled": true
   },
   "outputs": [
    {
     "name": "stdout",
     "output_type": "stream",
     "text": [
      "two3false\n"
     ]
    }
   ],
   "source": [
    "//Go back to javascript nerd\n",
    "let insultToTypescript = \"two\"+3+false;\n",
    "console.log(insultToTypescript);"
   ]
  },
  {
   "cell_type": "markdown",
   "id": "c2e627f4",
   "metadata": {},
   "source": [
    "<a id=\"ice7\"></a>\n",
    "\n",
    "## In-Class Exercise #7"
   ]
  },
  {
   "cell_type": "markdown",
   "id": "e5707f53",
   "metadata": {},
   "source": [
    "In the cell below write `I will not use the any type unless absolutely necessary`"
   ]
  },
  {
   "cell_type": "code",
   "execution_count": 30,
   "id": "d7fca1f1",
   "metadata": {},
   "outputs": [],
   "source": [
    "//I will not use the any type unless absolutely necessary"
   ]
  },
  {
   "cell_type": "markdown",
   "id": "99d1b767",
   "metadata": {},
   "source": [
    "<a id=\"tuples\"></a>\n",
    "\n",
    "### Tuples"
   ]
  },
  {
   "cell_type": "markdown",
   "id": "f88578c3",
   "metadata": {},
   "source": [
    "A Tuple is a fixed length array where each element has a particular type.\n",
    "These are generally used for arrays with only 2 pieces of information, as they quickly become hard to read and manage."
   ]
  },
  {
   "cell_type": "code",
   "execution_count": 39,
   "id": "360cd15d",
   "metadata": {},
   "outputs": [],
   "source": [
    "let product:[number, string] = [1,\"card\"]"
   ]
  },
  {
   "cell_type": "code",
   "execution_count": 42,
   "id": "788abb8c",
   "metadata": {},
   "outputs": [
    {
     "name": "stdout",
     "output_type": "stream",
     "text": [
      "[ \u001b[33m2\u001b[39m, \u001b[32m'Blue eyes white dragon'\u001b[39m ]\n"
     ]
    }
   ],
   "source": [
    "//Error\n",
    "product = [2,\"Blue eyes white dragon\"]"
   ]
  },
  {
   "cell_type": "code",
   "execution_count": null,
   "id": "8dccef85",
   "metadata": {
    "scrolled": true
   },
   "outputs": [],
   "source": [
    "//Error\n"
   ]
  },
  {
   "cell_type": "markdown",
   "id": "9128f768",
   "metadata": {},
   "source": [
    "### ⚠️WARNING⚠️"
   ]
  },
  {
   "cell_type": "markdown",
   "id": "ff126ff1",
   "metadata": {},
   "source": [
    "TypeScript isn't perfect when working with tuples and the push method will work, but this goes against the TS principlas and should never be done."
   ]
  },
  {
   "cell_type": "code",
   "execution_count": null,
   "id": "9eb96ff9",
   "metadata": {},
   "outputs": [],
   "source": [
    "// this works but shouldn't!!!\n"
   ]
  },
  {
   "cell_type": "markdown",
   "id": "7b56d713",
   "metadata": {},
   "source": [
    "<a id=\"ice8\"></a>\n",
    "\n",
    "## In-Class Exercise #8"
   ]
  },
  {
   "cell_type": "markdown",
   "id": "b990ba6b",
   "metadata": {},
   "source": [
    "Create an appropriate tuple named `iceTuple` that contains the values `true` `undefined`"
   ]
  },
  {
   "cell_type": "code",
   "execution_count": 43,
   "id": "1c11f6ba",
   "metadata": {},
   "outputs": [],
   "source": [
    "let iceTuple:[boolean, undefined] = [true,undefined]"
   ]
  },
  {
   "cell_type": "markdown",
   "id": "ca2d723a",
   "metadata": {},
   "source": [
    "<a id=\"enum\"></a>\n",
    "\n",
    "### Enum Type"
   ]
  },
  {
   "cell_type": "markdown",
   "id": "7dc8aaa0",
   "metadata": {},
   "source": [
    "Enums are used when there are highly related constants.\n",
    "\n",
    "To create an enum we use the syntax\n",
    "\n",
    "`enum NameOfEnum {key, key, key}`\n",
    "\n",
    "<b>Note: </b> Notice there is no equal sign\n",
    "\n",
    "Enums should be named using PascalCase\n",
    "\n",
    "By default each member of the enums value will be the index position of that value (starts at 0)"
   ]
  },
  {
   "cell_type": "code",
   "execution_count": 51,
   "id": "b7f14972",
   "metadata": {},
   "outputs": [
    {
     "name": "stdout",
     "output_type": "stream",
     "text": [
      "\u001b[33m1\u001b[39m\n"
     ]
    }
   ],
   "source": [
    "enum Size{small, medium, large}\n",
    "\n",
    "let mySize:Size= Size.medium\n",
    "\n",
    "console.log(mySize)"
   ]
  },
  {
   "cell_type": "markdown",
   "id": "93ff7127",
   "metadata": {},
   "source": [
    "We can start at a different number other than 0 by setting a number on the first element.  The following elements value with be incremented by one"
   ]
  },
  {
   "cell_type": "code",
   "execution_count": 54,
   "id": "b80550c1",
   "metadata": {},
   "outputs": [
    {
     "name": "stdout",
     "output_type": "stream",
     "text": [
      "\u001b[33m5\u001b[39m\n",
      "\u001b[33m6\u001b[39m\n",
      "\u001b[33m9\u001b[39m\n",
      "\u001b[33m9\u001b[39m\n"
     ]
    }
   ],
   "source": [
    "enum Size{small=5, medium =6, large =9}\n",
    "\n",
    "console.log(Size.small)\n",
    "console.log(Size.medium)\n",
    "console.log(Size.large)\n",
    "\n",
    "let mySize2:Size = Size.large\n",
    "\n",
    "console.log(mySize2)"
   ]
  },
  {
   "cell_type": "markdown",
   "id": "6e21c3f0",
   "metadata": {},
   "source": [
    "#### Explicitly setting enum values"
   ]
  },
  {
   "cell_type": "markdown",
   "id": "f94a7cb0",
   "metadata": {},
   "source": [
    "We can explicitly set the enum values to other types, but when we do this we must assign every single element a value. "
   ]
  },
  {
   "cell_type": "code",
   "execution_count": 56,
   "id": "1248f0d7",
   "metadata": {},
   "outputs": [
    {
     "name": "stdout",
     "output_type": "stream",
     "text": [
      "s\n"
     ]
    }
   ],
   "source": [
    "enum Size{small=\"s\", medium=\"m\", large =\"l\"};\n",
    "\n",
    "console.log(Size.small);"
   ]
  },
  {
   "cell_type": "code",
   "execution_count": null,
   "id": "1177da21",
   "metadata": {},
   "outputs": [],
   "source": [
    "enum Size4{small=\"s\", medium=\"m\", large =\"l\"};"
   ]
  },
  {
   "cell_type": "markdown",
   "id": "b4159033",
   "metadata": {},
   "source": [
    "<a id=\"ice9\"></a>\n",
    "\n",
    "## In-Class Exercise #9"
   ]
  },
  {
   "cell_type": "markdown",
   "id": "bc84a089",
   "metadata": {},
   "source": [
    "Create an enum type to represent The different football teams that can be on the field.\n",
    "\n",
    "`offense` `defense` and `specialTeams`\n",
    "\n",
    "They should be represented by `O`,`D`, and `ST` respectively\n",
    "\n",
    "name the enum `IceEnum`\n",
    "\n",
    "use the Ice Enum to print `ST O D`"
   ]
  },
  {
   "cell_type": "code",
   "execution_count": 58,
   "id": "059359a1",
   "metadata": {},
   "outputs": [
    {
     "name": "stdout",
     "output_type": "stream",
     "text": [
      "ST O D\n"
     ]
    }
   ],
   "source": [
    "enum iceEnum{offense=\"O\", defense=\"D\", specialTeams =\"ST\"}\n",
    "console.log(iceEnum.specialTeams, iceEnum.offense, iceEnum.defense)"
   ]
  },
  {
   "cell_type": "markdown",
   "id": "68b924b1",
   "metadata": {},
   "source": [
    "<a id=\"unknown\"></a>\n",
    "\n",
    "### Unknown Type"
   ]
  },
  {
   "cell_type": "markdown",
   "id": "86c40f67",
   "metadata": {},
   "source": [
    "The Unknown type is similar to the any type, but it will enforce type checking.  In order to use an Unknown type we must use a Type Guard to perform narrowing."
   ]
  },
  {
   "cell_type": "markdown",
   "id": "ae1d1157",
   "metadata": {},
   "source": [
    "#### With any"
   ]
  },
  {
   "cell_type": "markdown",
   "id": "a5750cad",
   "metadata": {},
   "source": [
    "We see here no compilation error, yet the person parameter has no guarentee it has the abilities to walk and talk"
   ]
  },
  {
   "cell_type": "code",
   "execution_count": null,
   "id": "800b05ff",
   "metadata": {},
   "outputs": [],
   "source": [
    "function myUnknownFuction(person:any){\n",
    "\n",
    "    person.walk()\n",
    "    person.talk()\n",
    "\n",
    "}"
   ]
  },
  {
   "cell_type": "markdown",
   "id": "94ddf873",
   "metadata": {},
   "source": [
    "#### With Unknown"
   ]
  },
  {
   "cell_type": "markdown",
   "id": "91f02f00",
   "metadata": {},
   "source": [
    "The person parameter is now annotated as unknown and we see we get a compilation error when trying to use this code"
   ]
  },
  {
   "cell_type": "code",
   "execution_count": 59,
   "id": "2e5c4f3e",
   "metadata": {},
   "outputs": [
    {
     "name": "stderr",
     "output_type": "stream",
     "text": [
      "3:12 - Property 'walk' does not exist on type 'unknown'.\n",
      "4:12 - Property 'talk' does not exist on type 'unknown'.\n"
     ]
    }
   ],
   "source": [
    "function myUnknownFuction(person:unknown){\n",
    "\n",
    "    person.walk()\n",
    "    person.talk()\n",
    "\n",
    "}"
   ]
  },
  {
   "cell_type": "markdown",
   "id": "582187a6",
   "metadata": {},
   "source": [
    "<a id=\"guard\"></a>\n",
    "\n",
    "#### Type Narrowing"
   ]
  },
  {
   "cell_type": "markdown",
   "id": "fbcb069b",
   "metadata": {},
   "source": [
    "To be able to use the unknown type we must first create our <b>Type Guard</b>.  This will narrow down the datatype so you can perform approiate actions.\n",
    "\n",
    "<strong>Note: </strong> This also allows the itellisense to kick in and give suggestions"
   ]
  },
  {
   "cell_type": "code",
   "execution_count": 65,
   "id": "e6bdeb6d",
   "metadata": {
    "scrolled": true
   },
   "outputs": [
    {
     "name": "stdout",
     "output_type": "stream",
     "text": [
      "talking\n",
      "walking\n",
      "\u001b[90mundefined\u001b[39m\n",
      "Invalid Type: Not a Person Object\n",
      "\u001b[90mundefined\u001b[39m\n"
     ]
    }
   ],
   "source": [
    "class Person{\n",
    "    walk(){\n",
    "        console.log(\"walking\")\n",
    "    }\n",
    "    talk(){\n",
    "        console.log(\"talking\")\n",
    "    }\n",
    "}\n",
    "\n",
    "function myUnknownFunction(person:unknown):void{\n",
    "    if(person instanceof(Person)){\n",
    "        person.talk();\n",
    "        person.walk();\n",
    "    }else{\n",
    "        console.log(\"Invalid Type: Not a Person Object\")\n",
    "    }\n",
    "}\n",
    "\n",
    "\n",
    "let jimmy:Person = new Person();\n",
    "console.log(myUnknownFunction(jimmy));\n",
    "\n",
    "console.log(myUnknownFunction(0))"
   ]
  },
  {
   "cell_type": "markdown",
   "id": "ee7f9a80",
   "metadata": {},
   "source": [
    "<a id=\"ice10\"></a>\n",
    "\n",
    "## In-Class Exercise #10"
   ]
  },
  {
   "cell_type": "markdown",
   "id": "32d4d413",
   "metadata": {},
   "source": [
    "Create a function that uses an unknown type parameter and implement a type guard.\n",
    "\n",
    "- If the parameter is a number we want the function to return the number sqaured\n",
    "\n",
    "- If the parameter is a string we want the function to return the string in uppercase letters\n",
    "\n",
    "- If the parameter is a boolean we want the function to return \"Its on\" if the boolean is true and \"Its off\" if the boolean is false\n",
    "\n",
    "- If the parameter is of any other type just return the parameter\n",
    "\n",
    "Name the function `iceGuard`\n",
    "\n",
    "Test your function for all 4 use cases"
   ]
  },
  {
   "cell_type": "code",
   "execution_count": 73,
   "id": "a081dc08",
   "metadata": {},
   "outputs": [
    {
     "name": "stdout",
     "output_type": "stream",
     "text": [
      "It's off\n",
      "SHHH\n",
      "\u001b[33m9\u001b[39m\n",
      "[ \u001b[33m3\u001b[39m, \u001b[33m3\u001b[39m, \u001b[33m3\u001b[39m, \u001b[33m3\u001b[39m ]\n"
     ]
    }
   ],
   "source": [
    "function iceGuard(param:unknown){\n",
    "    if(typeof param === \"number\"){\n",
    "        return param**2;\n",
    "    }\n",
    "    else if (typeof param === \"string\"){\n",
    "        return param.toUpperCase()\n",
    "    }\n",
    "    else if(typeof(param) === \"boolean\"){\n",
    "        return param ? \"It's on.\": \"It's off\";\n",
    "    }else {\n",
    "        return param\n",
    "    }\n",
    "}\n",
    "\n",
    "console.log(iceGuard(false))\n",
    "console.log(iceGuard(\"shhh\"))\n",
    "console.log(iceGuard(3))\n",
    "console.log(iceGuard([3,3,3,3]))"
   ]
  },
  {
   "cell_type": "markdown",
   "id": "666d1721",
   "metadata": {},
   "source": [
    "<a id=\"never\"></a>\n",
    "\n",
    "## Never Type"
   ]
  },
  {
   "cell_type": "markdown",
   "id": "52835f17",
   "metadata": {},
   "source": [
    "This is a rarely used Type, and generally used as a return type from a function.\n",
    "\n",
    "The never type is used to denote that a function never returns.  This means the function runs infintely, like a web server.\n",
    "\n",
    "I recommend not invoking (calling) the `myNeverFunction` as it is an in\n",
    "finite loop and may crash your notebook.  The example is to show you the use of `never`"
   ]
  },
  {
   "cell_type": "code",
   "execution_count": null,
   "id": "e95db644",
   "metadata": {},
   "outputs": [],
   "source": []
  },
  {
   "cell_type": "markdown",
   "id": "a0920209",
   "metadata": {},
   "source": [
    "<a id=\"obj\"></a>\n",
    "\n",
    "# Objects and TS"
   ]
  },
  {
   "cell_type": "markdown",
   "id": "6f18241a",
   "metadata": {},
   "source": [
    "Object are a built-in type from JS, but working with them in TS can be a little different we will go over a few ways to work with Objects in TS."
   ]
  },
  {
   "cell_type": "markdown",
   "id": "9b73a177",
   "metadata": {},
   "source": [
    "When declaring an Object TS will implictly force your object to maintain its \"shape\".  This means you can not dynamically add properties to your objects like you can in JS, and when you change a property is has to have the correct datatype.\n",
    "\n",
    "When we talk about the \"shape\" of an object we are talking about is keys, types, and methods."
   ]
  },
  {
   "cell_type": "code",
   "execution_count": 74,
   "id": "88ebf090",
   "metadata": {},
   "outputs": [
    {
     "name": "stdout",
     "output_type": "stream",
     "text": [
      "{ id: \u001b[33m0\u001b[39m }\n"
     ]
    }
   ],
   "source": [
    "let student={id:1}\n",
    "\n",
    "student.id = 0\n",
    "\n",
    "console.log(student)\n",
    "\n",
    "//Error because name:string is not part of our shape"
   ]
  },
  {
   "cell_type": "code",
   "execution_count": null,
   "id": "a2dc55dd",
   "metadata": {},
   "outputs": [],
   "source": []
  },
  {
   "cell_type": "code",
   "execution_count": null,
   "id": "5fb6589e",
   "metadata": {},
   "outputs": [],
   "source": []
  },
  {
   "cell_type": "code",
   "execution_count": null,
   "id": "b2b85d43",
   "metadata": {},
   "outputs": [],
   "source": [
    "//error"
   ]
  },
  {
   "cell_type": "code",
   "execution_count": null,
   "id": "de6bf784",
   "metadata": {
    "scrolled": true
   },
   "outputs": [],
   "source": []
  },
  {
   "cell_type": "markdown",
   "id": "fa0f7aa9",
   "metadata": {},
   "source": [
    "<a id=\"ice11\"></a>\n",
    "\n",
    "## In-Class Exercise #11"
   ]
  },
  {
   "cell_type": "markdown",
   "id": "7838732f",
   "metadata": {},
   "source": [
    "Define the shape and the values for an object name `iceMan`\n",
    "\n",
    "Ice man should have:\n",
    "\n",
    "- a id that is a number\n",
    "\n",
    "- a name that is a string\n",
    "\n",
    "- a wasFrozen property that is a boolean on whether or not our iceMan was ever frozen in time"
   ]
  },
  {
   "cell_type": "code",
   "execution_count": 78,
   "id": "67e38dc5",
   "metadata": {},
   "outputs": [
    {
     "name": "stdout",
     "output_type": "stream",
     "text": [
      "{ id: \u001b[33m2\u001b[39m, name: \u001b[32m'Frozone'\u001b[39m, wasFrozen: \u001b[33mfalse\u001b[39m }\n"
     ]
    }
   ],
   "source": [
    "let iceMan:{id:number, name:string, wasFrozen:boolean}={id:2,name:\"Frozone\", wasFrozen:false}\n",
    "\n",
    "\n",
    "\n",
    "console.log(iceMan)"
   ]
  },
  {
   "cell_type": "markdown",
   "id": "0a7da4c1",
   "metadata": {},
   "source": [
    "<a id=\"type\"></a>\n",
    "\n",
    "## Type Aliases"
   ]
  },
  {
   "cell_type": "markdown",
   "id": "2a7aff0b",
   "metadata": {},
   "source": [
    "The above way to work with objects is a bit cumbersome.  There is an easier way using a type alias, which allows you to predefine the shape and reuse this shape.\n",
    "\n",
    "The type's name should be written in PascalCase"
   ]
  },
  {
   "cell_type": "code",
   "execution_count": null,
   "id": "114b13c6",
   "metadata": {},
   "outputs": [],
   "source": []
  },
  {
   "cell_type": "code",
   "execution_count": null,
   "id": "91a7ee24",
   "metadata": {},
   "outputs": [],
   "source": []
  },
  {
   "cell_type": "code",
   "execution_count": null,
   "id": "083ebce0",
   "metadata": {},
   "outputs": [],
   "source": []
  },
  {
   "cell_type": "code",
   "execution_count": null,
   "id": "9df43d34",
   "metadata": {},
   "outputs": [],
   "source": []
  },
  {
   "cell_type": "markdown",
   "id": "02817f40",
   "metadata": {},
   "source": [
    "<a id=\"ice12\"></a>\n",
    "\n",
    "## In-Class Exercise #12"
   ]
  },
  {
   "cell_type": "markdown",
   "id": "3322bc7a",
   "metadata": {},
   "source": [
    "Define the type for an our iceMan we made in the last example and name the type `IceManType`  Then create 3 iceMen called `iceMan1` `iceman2` and `iceMan3`.\n",
    "\n",
    "Ice man should have:\n",
    "\n",
    "- a id that is a number\n",
    "\n",
    "- a name that is a string\n",
    "\n",
    "- a wasFrozen property that is a boolean on whether or not our iceMan was ever frozen in time"
   ]
  },
  {
   "cell_type": "code",
   "execution_count": 88,
   "id": "11fc2916",
   "metadata": {},
   "outputs": [
    {
     "name": "stdout",
     "output_type": "stream",
     "text": [
      "{ id: \u001b[33m2\u001b[39m, name: \u001b[32m'Frozone'\u001b[39m, wasFrozen: \u001b[33mfalse\u001b[39m }\n"
     ]
    }
   ],
   "source": [
    "type iceMan={id:number, name:string, wasFrozen:boolean}\n",
    "\n",
    "let frozone:iceMan={id:2,name:\"Frozone\", wasFrozen:false}\n",
    "\n",
    "let other:iceMan={id:3, name:\"Mr Incredible\", wasFrozen:false}\n",
    "\n",
    "console.log(frozone)"
   ]
  },
  {
   "cell_type": "markdown",
   "id": "10b7ff08",
   "metadata": {},
   "source": [
    "<a id=\"readonly\"></a>\n",
    "\n",
    "#### readonly"
   ]
  },
  {
   "cell_type": "markdown",
   "id": "cf1387b6",
   "metadata": {},
   "source": [
    "Sometime there are properties of an object that should never change, for instance an id should never be changed.  This rule can be enforced with the `readonly` keyword"
   ]
  },
  {
   "cell_type": "code",
   "execution_count": 94,
   "id": "8dff2ae7",
   "metadata": {},
   "outputs": [
    {
     "name": "stdout",
     "output_type": "stream",
     "text": [
      "\u001b[33m3\u001b[39m\n",
      "Ferris\n"
     ]
    }
   ],
   "source": [
    "type studentRO ={\n",
    "    readonly id:number, \n",
    "    name:string\n",
    "}\n",
    "\n",
    "let student:studentRO={id:3,name:\"Bueler\"}\n",
    "console.log(student.id)\n",
    "student.name = \"Ferris\"\n",
    "\n"
   ]
  },
  {
   "cell_type": "code",
   "execution_count": null,
   "id": "224e1d6a",
   "metadata": {},
   "outputs": [],
   "source": []
  },
  {
   "cell_type": "code",
   "execution_count": null,
   "id": "0a00829c",
   "metadata": {},
   "outputs": [],
   "source": []
  },
  {
   "cell_type": "markdown",
   "id": "f8665c3d",
   "metadata": {},
   "source": [
    "<a id=\"opt\"></a>\n",
    "\n",
    "#### Optional fields"
   ]
  },
  {
   "cell_type": "markdown",
   "id": "02369f88",
   "metadata": {},
   "source": [
    "Sometime you also have fields that should be optional, and not required to add in, like a Fax Number or Address Line 2.  This can be denoted using the `?`"
   ]
  },
  {
   "cell_type": "code",
   "execution_count": 91,
   "id": "5d1286b0",
   "metadata": {},
   "outputs": [
    {
     "name": "stdout",
     "output_type": "stream",
     "text": [
      "{ id: \u001b[33m2\u001b[39m, name: \u001b[32m'Frozone'\u001b[39m, wasFrozen: \u001b[33mfalse\u001b[39m }\n",
      "Mr Incredible\n"
     ]
    }
   ],
   "source": [
    "type iceMan={id:number, name:string, wasFrozen:boolean, fax?:number}\n",
    "\n",
    "let frozone:iceMan={id:2,name:\"Frozone\", wasFrozen:false}\n",
    "\n",
    "let bobPar:iceMan={id:3, name:\"Mr Incredible\", wasFrozen:false}\n",
    "\n",
    "console.log(frozone)\n",
    "console.log(bobPar.name)"
   ]
  },
  {
   "cell_type": "code",
   "execution_count": null,
   "id": "3be51bc1",
   "metadata": {},
   "outputs": [],
   "source": [
    "type studentRO ={\n",
    "    readonly id:number, \n",
    "    name:string\n",
    "}\n",
    "\n"
   ]
  },
  {
   "cell_type": "code",
   "execution_count": null,
   "id": "8e9bdb86",
   "metadata": {},
   "outputs": [],
   "source": [
    "\n"
   ]
  },
  {
   "cell_type": "markdown",
   "id": "19248947",
   "metadata": {},
   "source": [
    "<a id=\"objmeth\"></a>\n",
    "\n",
    "#### methods"
   ]
  },
  {
   "cell_type": "markdown",
   "id": "247fa926",
   "metadata": {},
   "source": [
    "Types can also include methods that should be implemented."
   ]
  },
  {
   "cell_type": "code",
   "execution_count": 98,
   "id": "24e1581d",
   "metadata": {},
   "outputs": [],
   "source": [
    "type studentMethod={\n",
    "    readonly id,\n",
    "    name: string,\n",
    "    fax?: string,\n",
    "    sayHello:(name:string)=>string\n",
    "}"
   ]
  },
  {
   "cell_type": "code",
   "execution_count": 101,
   "id": "20ce4d15",
   "metadata": {},
   "outputs": [
    {
     "name": "stdout",
     "output_type": "stream",
     "text": [
      "hello woodstock\n"
     ]
    }
   ],
   "source": [
    "let studentM: studentMethod={id:6, name:\"Snoppy\",sayHello:(name)=>{return \"hello \" +name}}\n",
    "\n",
    "studentM.sayHello(\"woodstock\")"
   ]
  },
  {
   "cell_type": "code",
   "execution_count": null,
   "id": "0b833227",
   "metadata": {},
   "outputs": [],
   "source": []
  },
  {
   "cell_type": "markdown",
   "id": "682bf826",
   "metadata": {},
   "source": [
    "<a id=\"ice13\"></a>\n",
    "\n",
    "## In-Class Exercise #13"
   ]
  },
  {
   "cell_type": "markdown",
   "id": "8ac638db",
   "metadata": {},
   "source": [
    "Create a type `IceShoeType` and 1 member of this type `iceShoe`\n",
    "\n",
    "all IceProducts must meet the following requirements\n",
    "\n",
    "- has readonly id field\n",
    "- has size (i.e. 7, 8, 11)\n",
    "- has a name\n",
    "- has an Optional value to describe if is the product has a wide version\n",
    "- has a description"
   ]
  },
  {
   "cell_type": "code",
   "execution_count": null,
   "id": "a2fb8b7a",
   "metadata": {},
   "outputs": [],
   "source": []
  },
  {
   "cell_type": "markdown",
   "id": "6910bed6",
   "metadata": {},
   "source": [
    "<a id=\"union\"></a>\n",
    "\n",
    "### Union Types"
   ]
  },
  {
   "cell_type": "markdown",
   "id": "0876547e",
   "metadata": {},
   "source": [
    "We can assign a variable multiple types, instead of just one.  This is great when the value could have multiple datatype.   This is done with the union operator `|` which is the pipe key"
   ]
  },
  {
   "cell_type": "code",
   "execution_count": null,
   "id": "75cc3c91",
   "metadata": {},
   "outputs": [],
   "source": []
  },
  {
   "cell_type": "code",
   "execution_count": null,
   "id": "3271e1b5",
   "metadata": {},
   "outputs": [],
   "source": []
  },
  {
   "cell_type": "code",
   "execution_count": null,
   "id": "43eac0ac",
   "metadata": {},
   "outputs": [],
   "source": [
    "\n"
   ]
  },
  {
   "cell_type": "code",
   "execution_count": null,
   "id": "d500a096",
   "metadata": {
    "scrolled": true
   },
   "outputs": [],
   "source": []
  },
  {
   "cell_type": "markdown",
   "id": "bde30263",
   "metadata": {},
   "source": [
    "#### Union Types with Function"
   ]
  },
  {
   "cell_type": "markdown",
   "id": "f43afc07",
   "metadata": {},
   "source": [
    "We using a union type for parameters, one must enable a <b>type guard</b>"
   ]
  },
  {
   "cell_type": "code",
   "execution_count": 103,
   "id": "dcb3e21a",
   "metadata": {},
   "outputs": [
    {
     "name": "stdout",
     "output_type": "stream",
     "text": [
      "\u001b[33m2413334444\u001b[39m\n"
     ]
    }
   ],
   "source": [
    "let fax:number|string|null=2413334444\n",
    "console.log(fax)"
   ]
  },
  {
   "cell_type": "code",
   "execution_count": null,
   "id": "b4085ec1",
   "metadata": {},
   "outputs": [],
   "source": []
  },
  {
   "cell_type": "code",
   "execution_count": null,
   "id": "3e0cce35",
   "metadata": {},
   "outputs": [],
   "source": []
  },
  {
   "cell_type": "code",
   "execution_count": null,
   "id": "bf1368c4",
   "metadata": {},
   "outputs": [],
   "source": []
  },
  {
   "cell_type": "code",
   "execution_count": 109,
   "id": "f46cc161",
   "metadata": {},
   "outputs": [
    {
     "name": "stdout",
     "output_type": "stream",
     "text": [
      "\u001b[33m7.62\u001b[39m\n"
     ]
    }
   ],
   "source": [
    "function inchesToCm(length:string|number):number{\n",
    "    if (typeof(length) === \"string\"){\n",
    "        return parseFloat(length)*2.54\n",
    "    }\n",
    "    else{\n",
    "        return length * 2.54\n",
    "    }\n",
    "}\n",
    "\n",
    "console.log(inchesToCm(3))"
   ]
  },
  {
   "cell_type": "markdown",
   "id": "a3c0aa4a",
   "metadata": {},
   "source": [
    "<a id=\"ice14\"></a>\n",
    "\n",
    "## In-Class Exercise #14"
   ]
  },
  {
   "cell_type": "markdown",
   "id": "e9cdb24a",
   "metadata": {},
   "source": [
    "Create a function that takes one parameter that can be either a boolean or a string.  Using a type guard have the function return back the boolean or have it return true/false if the string starts with a `\"c\" or \"C\"`\n",
    "\n",
    "Be sure to use type annonations to enforce your parameter types and the functions return type\n",
    "\n",
    "Name the function `ice13`"
   ]
  },
  {
   "cell_type": "code",
   "execution_count": null,
   "id": "fd9ac130",
   "metadata": {},
   "outputs": [],
   "source": [
    "function ice13(param: string|boolean){\n",
    "}"
   ]
  },
  {
   "cell_type": "markdown",
   "id": "31a7246b",
   "metadata": {},
   "source": [
    "<a id=\"as\"></a>\n",
    "\n",
    "### As Keyword"
   ]
  },
  {
   "cell_type": "markdown",
   "id": "d0235ad0",
   "metadata": {},
   "source": [
    "The `as` keyword tells Typescript to treat a variable like its a member of a certain type.\n",
    "\n",
    "You can solve many problems using `as any`, but this is considered bad practice and should be avoided"
   ]
  },
  {
   "cell_type": "code",
   "execution_count": 112,
   "id": "512771c0",
   "metadata": {},
   "outputs": [
    {
     "name": "stderr",
     "output_type": "stream",
     "text": [
      "6:22 - Argument of type 'number' is not assignable to parameter of type 'string[]'.\n"
     ]
    }
   ],
   "source": [
    "function hasThing(arr:string[], value:string|number):boolean{\n",
    "\n",
    "    return arr.includes(value as string)\n",
    "}\n",
    "\n",
    "console.log(hasThing(2,[\"2\",\"3\"]))"
   ]
  },
  {
   "cell_type": "code",
   "execution_count": 114,
   "id": "0c7d2149",
   "metadata": {},
   "outputs": [
    {
     "name": "stdout",
     "output_type": "stream",
     "text": [
      "\u001b[33mfalse\u001b[39m\n"
     ]
    }
   ],
   "source": [
    "function hasThing(arr:string[], value:string|number):boolean{\n",
    "                        //check values as a string\n",
    "    return arr.includes(value as string)\n",
    "}\n",
    "\n",
    "console.log(hasThing([\"2\",\"3\"],2))"
   ]
  },
  {
   "cell_type": "markdown",
   "id": "64c82958",
   "metadata": {},
   "source": [
    "<a id=\"intersec\"></a>\n",
    "\n",
    "### Intersection Types"
   ]
  },
  {
   "cell_type": "markdown",
   "id": "0fb6adaa",
   "metadata": {},
   "source": [
    "We can make new types by combining old types using an intersection and the `&`\n",
    "\n",
    "<b>Note: </b> Two types can be combined if they don't share a common key with different type.  So that means both types can have an id field as long as the id field is defined as the same type (say number) in both original classes"
   ]
  },
  {
   "cell_type": "code",
   "execution_count": 119,
   "id": "70d0e19c",
   "metadata": {},
   "outputs": [
    {
     "name": "stderr",
     "output_type": "stream",
     "text": [
      "12:15 - ':' expected.\n",
      "17:5 - Type '{ id: number; x: number; y: number; width: number; resize: () => void; move: () => void; }' is not assignable to type 'Component'.\n",
      "17:5 - Property 'height' is missing in type '{ id: number; x: number; y: number; width: number; resize: () => void; move: () => void; }' but required in type 'Resizeable'.\n"
     ]
    }
   ],
   "source": [
    "type Moveable ={\n",
    "    id:number,\n",
    "    x: number, \n",
    "    y: number, \n",
    "    move:()=>void\n",
    "}\n",
    "\n",
    "type Resizeable = {\n",
    "    id:number,\n",
    "    width: number,\n",
    "    height: number,\n",
    "    resize () => void\n",
    "}\n",
    "\n",
    "type Component = Moveable & Resizeable;\n",
    "\n",
    "let newComponent:Component={\n",
    "    id:200,\n",
    "    x:5,\n",
    "    y:6,\n",
    "    width:200,\n",
    "    resize:()=> {console.log(\"it is being resized\")},\n",
    "    move:() => {console.log(\"It moves\")}\n",
    "}\n",
    "\n",
    "console.log(newComponent)"
   ]
  },
  {
   "cell_type": "code",
   "execution_count": null,
   "id": "3096d301",
   "metadata": {
    "scrolled": true
   },
   "outputs": [],
   "source": []
  },
  {
   "cell_type": "markdown",
   "id": "7d0f6e34",
   "metadata": {},
   "source": [
    "<a id=\"ice15\"></a>\n",
    "\n",
    "## In-Class Exercise #15"
   ]
  },
  {
   "cell_type": "markdown",
   "id": "a0d07411",
   "metadata": {},
   "source": [
    "Create two types and then create a 3rd type from those first two type.\n",
    "\n",
    "IceUser:\n",
    "\n",
    "- firstName\n",
    "- lastName\n",
    "- age\n",
    "\n",
    "IceCustomer:\n",
    "- cart (array of strings)\n",
    "- address (string)\n",
    "\n",
    "\n",
    "IceComplete:\n",
    "- Combination of IceCustomer and IceUser\n",
    "\n",
    "Also Create an IceComplete Object named `icedOver`\n"
   ]
  },
  {
   "cell_type": "code",
   "execution_count": null,
   "id": "f77e9434",
   "metadata": {},
   "outputs": [],
   "source": []
  },
  {
   "cell_type": "markdown",
   "id": "50de75ca",
   "metadata": {},
   "source": [
    "<a id=\"literal\"></a>\n",
    "\n",
    "### Literal Types"
   ]
  },
  {
   "cell_type": "markdown",
   "id": "17539510",
   "metadata": {},
   "source": [
    "A Literal type works kind of like an enum type.  You can set the possible values are variable takes by assigning it a value and chaining all posible values with the `|`"
   ]
  },
  {
   "cell_type": "code",
   "execution_count": null,
   "id": "c76e9792",
   "metadata": {},
   "outputs": [],
   "source": [
    "// This is useless"
   ]
  },
  {
   "cell_type": "code",
   "execution_count": 138,
   "id": "1ad13361",
   "metadata": {},
   "outputs": [
    {
     "name": "stdout",
     "output_type": "stream",
     "text": [
      "[ \u001b[32m'Real Tuple'\u001b[39m, \u001b[33m3\u001b[39m ]\n"
     ]
    }
   ],
   "source": [
    "type literalType=[\"Real Tuple\",3]\n",
    "console.log(literalType)"
   ]
  },
  {
   "cell_type": "markdown",
   "id": "498945b5",
   "metadata": {},
   "source": [
    "We can even define the options as its own type."
   ]
  },
  {
   "cell_type": "code",
   "execution_count": null,
   "id": "358de934",
   "metadata": {},
   "outputs": [],
   "source": []
  },
  {
   "cell_type": "code",
   "execution_count": null,
   "id": "6c2a9404",
   "metadata": {},
   "outputs": [],
   "source": []
  },
  {
   "cell_type": "code",
   "execution_count": null,
   "id": "4949d9b7",
   "metadata": {},
   "outputs": [],
   "source": []
  },
  {
   "cell_type": "markdown",
   "id": "9504ed7c",
   "metadata": {},
   "source": [
    "<a id=\"ice16\"></a>\n",
    "\n",
    "## In-Class Exercise #16"
   ]
  },
  {
   "cell_type": "markdown",
   "id": "9e327aa4",
   "metadata": {},
   "source": [
    "Create a Literal type that restricts its values to the 6 main characters from friends.  Ross, Rachel, Joey, Chandler, Pheobe, Monica\n",
    "\n",
    "Use that type to create a variable for Rachel"
   ]
  },
  {
   "cell_type": "code",
   "execution_count": null,
   "id": "861075bb",
   "metadata": {},
   "outputs": [],
   "source": []
  },
  {
   "cell_type": "markdown",
   "id": "a38244ca",
   "metadata": {},
   "source": [
    "<a id=\"nnao\"></a>\n",
    "\n",
    "### Non-null assertion operator"
   ]
  },
  {
   "cell_type": "markdown",
   "id": "6d2e35b3",
   "metadata": {},
   "source": [
    "The non-null assertion operator is used to postfix variables to tell TypeScript that the variable can not be null even thought TypeScript may think that it could be null.  Good practice states this should not be used when the variable could actually be null, and only when TypeScript can't infer that the null type has been ruled out\n",
    "\n",
    "\n",
    "TypeScript has a .tsconfig file (uneditabled in this jupyter notebook) that allows use to turn some of the TypeScript rules on or off (more on this later).  For the following example we want strictNullChecks option turned on (set to true)  This can not be done in this notebook, so check out this example of TypeScript Playground:\n",
    "\n",
    "https://www.typescriptlang.org/play?&install-plugin=@structured-types/playground-plugin#code/PTAqAsFMAIBcGcDGB7AdgMwJYHNrgIbzTySyyaq4BE8sATporAHICuANuwMJSIDW8KgC44dVpAA0AKBlT0rVE0xpoAN3ztMAE3yxIAZXKUAFDtj4A-CNoNKAHwVbIWVJC13UHdgEpoAbyloIOgQaB5IfgpcWGRiSBhYKGgzfGhMIk9OaGQ6aEdnCjdA4Mx0aFNdVIBeGuhM9mg7O2TK6BqqvNQnFzdvAOCBuHA6ZAB3OshxgFE6EbpjAHIYRHxUVGRYaAAjGHqF72KggF9i4pOg+UVyFQAHEcRIeHgp1HJYAE8K8ytieiiHLoFVzueq+frBdSaMwGIzYL74A4DUIpaArVATVSQXL4JisDTsd7bXZebK5fI9LRBQ4hYBElasEhDGB3SCqAB00EuShUo2QHEpMzm2VYsFOSLA7xuBkQDBum3SnXwW3YCViFHQWKGuha5lRqzqGyJdRJOU63UKlOpoXgsVGMBIMFSKAAtjdMOxdMp0Vi5mLgirNkQOik2TEADJjLFcQiQYy+P1W2mgWJYAAeQwVdryjMSuzQAFp6tBCCQ6Nd0cgpXRdDlE9AA8Q2jr8ABCUPICN2ujRkhxhPHYp3ZAPJ4vN6fbxAA\n",
    "\n",
    "\n"
   ]
  },
  {
   "cell_type": "markdown",
   "id": "3a4711e9",
   "metadata": {},
   "source": [
    "<a id=\"hw\"></a>\n",
    "\n",
    "# Homework"
   ]
  },
  {
   "cell_type": "markdown",
   "id": "4d47fea9",
   "metadata": {},
   "source": [
    "#### Question #1"
   ]
  },
  {
   "cell_type": "markdown",
   "id": "a9e8d7cb",
   "metadata": {},
   "source": [
    "Create a type to represent the following instances of `CTStudent` Also declare three 3 students below as type `CTStudent` and set their values\n",
    "\n",
    "```\n",
    "let student1 = {\n",
    "    id: 'GMK435&g62L00',\n",
    "    name: 'John Smith',\n",
    "    age: 24,\n",
    "    isTired: true,\n",
    "    projectsCompleted:[\"HTML Portfolio\", \"Fakebook\", \"Pokemon API Project\", \"Weather Bug\"],\n",
    "    pet: 'dog'\n",
    "}\n",
    "\n",
    "let student2= {\n",
    "    id: '6KGS%54GmlY76',\n",
    "    name: 'Jenny Hawthorne',\n",
    "    age: 28,\n",
    "    isTired: false,\n",
    "    projectsCompleted:[\"HTML Portfolio\"],\n",
    "}\n",
    "\n",
    "let student3 = {\n",
    "    id: '6KGS%54GmlY76',\n",
    "    name: 'Neo',\n",
    "    age: 57,\n",
    "    isTired: true,\n",
    "    projectsCompleted:[\"Matrix\",\"Biological Interface Program\"],\n",
    "    pet:'cat'\n",
    "}\n",
    "```"
   ]
  },
  {
   "cell_type": "code",
   "execution_count": 22,
   "id": "c73d5ef8",
   "metadata": {},
   "outputs": [],
   "source": [
    "//Answer\n",
    "type CTStudent={\n",
    "    id:string,\n",
    "    name:string,\n",
    "    age:number,\n",
    "    isTired: boolean,\n",
    "    projectsCompleted:string[],\n",
    "    pet?:string\n",
    "}\n",
    "\n",
    "let student1:CTStudent = {\n",
    "    id: 'GMK435&g62L00',\n",
    "    name: 'John Smith',\n",
    "    age: 24,\n",
    "    isTired: true,\n",
    "    projectsCompleted:[\"HTML Portfolio\", \"Fakebook\", \"Pokemon API Project\", \"Weather Bug\"],\n",
    "    pet: 'dog'\n",
    "}\n",
    "\n",
    "let student2:CTStudent = {\n",
    "    id: '6KGS%54GmlY76',\n",
    "    name: 'Jenny Hawthorne',\n",
    "    age: 28,\n",
    "    isTired: false,\n",
    "    projectsCompleted:[\"HTML Portfolio\"],\n",
    "}\n",
    "\n",
    "let student3:CTStudent = {\n",
    "    id: '6KGS%54GmlY76',\n",
    "    name: 'Neo',\n",
    "    age: 57,\n",
    "    isTired: true,\n",
    "    projectsCompleted:[\"Matrix\",\"Biological Interface Program\"],\n",
    "    pet:'cat'\n",
    "}"
   ]
  },
  {
   "cell_type": "markdown",
   "id": "4f55579f",
   "metadata": {},
   "source": [
    "#### Question #2"
   ]
  },
  {
   "cell_type": "markdown",
   "id": "3b36ab99",
   "metadata": {},
   "source": [
    "Write a function that will accept a an object of type `Fruit`, the object of type Fruit could also be `null`.  If their is a Fruit print the color of the fruit, otherwise print `You ate my fruit already` be sure to annoate the return type of the function"
   ]
  },
  {
   "cell_type": "code",
   "execution_count": 17,
   "id": "d0723c22",
   "metadata": {},
   "outputs": [
    {
     "name": "stdout",
     "output_type": "stream",
     "text": [
      "You ate my fruit already\n",
      "red sphere\n"
     ]
    }
   ],
   "source": [
    "//Given\n",
    "type Fruit={\n",
    "    color:string,\n",
    "    shape:string\n",
    "}\n",
    "\n",
    "let apple:Fruit={color:\"red\", shape:\"sphere\"}\n",
    "let eaten:Fruit=null\n",
    "\n",
    "//Answer\n",
    "function logFruit(f:Fruit){\n",
    "    if (f == null){\n",
    "        console.log(\"You ate my fruit already\")\n",
    "    }else{\n",
    "        console.log(f.color, f.shape);\n",
    "    }\n",
    "}\n",
    "\n",
    "logFruit(eaten);\n",
    "logFruit(apple);\n"
   ]
  },
  {
   "cell_type": "markdown",
   "id": "c779e6ce",
   "metadata": {},
   "source": [
    "#### Question #3"
   ]
  },
  {
   "cell_type": "markdown",
   "id": "754ad305",
   "metadata": {},
   "source": [
    "Create a Union Type named `Ebook` for `Book` and `DigitalBook` and create one instance of the new union type"
   ]
  },
  {
   "cell_type": "code",
   "execution_count": 32,
   "id": "a2fe8468",
   "metadata": {},
   "outputs": [
    {
     "name": "stdout",
     "output_type": "stream",
     "text": [
      "19032190321 Game of Thrones George R R Martin\n"
     ]
    }
   ],
   "source": [
    "//Given \n",
    "type Book={\n",
    "    isbn:string,\n",
    "    title:string,\n",
    "    author:string\n",
    "}\n",
    "\n",
    "type DigitalBook={\n",
    "    fileType:string,\n",
    "}\n",
    "\n",
    "//Answer\n",
    "let Ebook:Book|DigitalBook={\n",
    "    isbn:\"19032190321\",\n",
    "    title:\"Game of Thrones\",\n",
    "    author:\"George R R Martin\"\n",
    "}\n",
    "\n",
    "console.log(Ebook.isbn, Ebook.title, Ebook.author)"
   ]
  },
  {
   "cell_type": "markdown",
   "id": "ff5b6cd0",
   "metadata": {},
   "source": [
    "#### Question #4"
   ]
  },
  {
   "cell_type": "markdown",
   "id": "2d47d040",
   "metadata": {},
   "source": [
    "Create a Type to represent a `ShopItem` that will fit the following rules. You may need to create additional structures\n",
    "\n",
    "- All ShopItems have an numeric id that can not be edited \n",
    "- All ShopItems have a price\n",
    "- All ShopItems have a description\n",
    "- Some ShopItems have a color\n",
    "- All ShopItems have a Category represented with an enum \n",
    "    - Possible Categories are `Shirts` `Shoes` `Pants` `Hats`\n",
    "- All ShopItems have a list of keywords used to help search for the ShopItem \n",
    "    - For Example A Ironman Tshirt may have keywords = [\"Marvel\", \"Endgame\", \"Ironman\",\"Character Tees\", \"Tony Stark\"]\n",
    "\n",
    "After Creating the `ShopItem` type create 3 items using this type"
   ]
  },
  {
   "cell_type": "code",
   "execution_count": 10,
   "id": "157b9a0d",
   "metadata": {},
   "outputs": [
    {
     "name": "stderr",
     "output_type": "stream",
     "text": [
      "11:38 - Type '{ id: number; 14.99: any; color: string; category: any; keywords: string[]; let: any; blackJeans: { id: number; price: number; color: string; category: Category; keywords: string[]; let: any; sunHat: { ...; }; }; }' is not assignable to type 'ShopItem'.\n",
      "11:38 - Object literal may only specify known properties, and '14.99' does not exist in type 'ShopItem'.\n",
      "11:43 - ':' expected.\n",
      "11:76 - Property 'shirt' does not exist on type 'typeof Category'. Did you mean 'shirts'?\n",
      "11:121 - ',' expected.\n",
      "13:1 - No value exists in scope for the shorthand property 'let'. Either declare one or provide an initializer.\n",
      "13:5 - ',' expected.\n",
      "13:16 - 'ShopItem' only refers to a type, but is being used as a value here.\n",
      "13:135 - ',' expected.\n",
      "15:1 - No value exists in scope for the shorthand property 'let'. Either declare one or provide an initializer.\n",
      "15:5 - ',' expected.\n",
      "15:12 - 'ShopItem' only refers to a type, but is being used as a value here.\n",
      "37:1 - ',' expected.\n",
      "37:8 - ':' expected.\n",
      "37:19 - 'ShopItem' only refers to a type, but is being used as a value here.\n",
      "37:29 - Block-scoped variable 'turtleNeck' used before its declaration.\n",
      "37:40 - '}' expected.\n"
     ]
    }
   ],
   "source": [
    "enum Category{shirts=\"shirts\", shoes=\"shoes\",pants=\"pants\",hats=\"hats\"}\n",
    "\n",
    "type ShopItem  = {\n",
    "    readonly id:number,\n",
    "    price: number,\n",
    "    color:string,\n",
    "    category:Category,\n",
    "    keywords:string[]\n",
    "}\n",
    "\n",
    "let turtleNeck:ShopItem ={\n",
    "    id:3234234,\n",
    "    price:14.99,\n",
    "    color:\"green\",\n",
    "    category:Category.shirt,\n",
    "    keywords:[\"Blue Clues\",\"Everyday Wear\"];\n",
    "}\n",
    "\n",
    "let blackJeans:ShopItem = {\n",
    "    id:33334324,\n",
    "    price:30.99,\n",
    "    color:\"Black\", \n",
    "    category:Category.pants,\n",
    "    keywords:[\"Skater\",\"jeans\",\"American Eagle\"];\n",
    "}\n",
    "\n",
    "let sunHat:ShopItem ={id:34234342234,price:20.45,color:\"yellow\",category:Category.hats,keywords:[\"summer\", \"spring wear\"]\n",
    "\n",
    "\n",
    "\n",
    "\n",
    "\n",
    "\n",
    "\n",
    "\n",
    "\n",
    "\n",
    "\n",
    "\n",
    "\n",
    "\n",
    "\n",
    "\n",
    "\n",
    "\n",
    "\n",
    "\n"
   ]
  },
  {
   "cell_type": "code",
   "execution_count": null,
   "id": "7abea2d1-43d8-4134-9820-577b4ccbd432",
   "metadata": {},
   "outputs": [],
   "source": []
  },
  {
   "cell_type": "code",
   "execution_count": null,
   "id": "737a9375-ebba-426a-b69f-23ef75841a95",
   "metadata": {},
   "outputs": [],
   "source": []
  }
 ],
 "metadata": {
  "kernelspec": {
   "display_name": "TypeScript",
   "language": "typescript",
   "name": "tslab"
  },
  "language_info": {
   "codemirror_mode": {
    "mode": "typescript",
    "name": "javascript",
    "typescript": true
   },
   "file_extension": ".ts",
   "mimetype": "text/typescript",
   "name": "typescript",
   "version": "3.7.2"
  }
 },
 "nbformat": 4,
 "nbformat_minor": 5
}
